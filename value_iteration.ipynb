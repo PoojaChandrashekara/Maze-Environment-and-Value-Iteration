{
  "nbformat": 4,
  "nbformat_minor": 0,
  "metadata": {
    "colab": {
      "provenance": []
    },
    "kernelspec": {
      "name": "python3",
      "display_name": "Python 3"
    },
    "language_info": {
      "name": "python"
    }
  },
  "cells": [
    {
      "cell_type": "code",
      "execution_count": null,
      "metadata": {
        "id": "SEWPJfdcThUz"
      },
      "outputs": [],
      "source": [
        "import numpy as np\n",
        "import matplotlib.pyplot as plt\n",
        "\n",
        "\n",
        "# Define the action space\n",
        "action_space = ['U', 'D', 'L', 'R']\n",
        "\n",
        "# Define the transition probabilities\n",
        "p = 0.9 # Probability of moving to the anticipated state\n",
        "transition_probabilities = {'U': {'U': 1-p, 'D': p/3, 'L': p/3, 'R': p/3},\n",
        "                           'D': {'U': p/3, 'D': 1-p, 'L': p/3, 'R': p/3},\n",
        "                           'L': {'U': p/3, 'D': p/3, 'L': 1-p, 'R': p/3},\n",
        "                           'R': {'U': p/3, 'D': p/3, 'L': p/3, 'R': 1-p}}\n",
        "\n",
        "# Define the reward function\n",
        "def get_reward(state, action, next_state, maze):\n",
        "    reward = -1 # Default reward for taking any action\n",
        "    if maze[next_state] == -10: # Bump state\n",
        "        reward = -10\n",
        "    elif maze[next_state] == -5: # Oil state\n",
        "        reward = -5\n",
        "    elif maze[next_state] == 200: # Goal state\n",
        "        reward = 200\n",
        "    return reward\n",
        "\n",
        "# Define the random walk policy\n",
        "def random_walk_policy(state):\n",
        "    return np.random.choice(action_space)\n",
        "\n",
        "# Define the environment class\n",
        "class MazeEnvironment:\n",
        "    def __init__(self):\n",
        "            self.start_state = (14, 3)  # Starting state\n",
        "            self.current_state = self.start_state\n",
        "            self.goal= (2,12) #goal state\n",
        "            self.maze = np.array([[0, 0, 0, 0, 0, 0, 0, 0, 0, 0, -10,-10, 0, 0, 0, 0, 0, 0],\n",
        "                                  [-10, -10, -10, 0, 1, 0, 0, -5, 0, 0, 0, 0, 0, 0, 0, -5, 0, 0],\n",
        "                                  [0, 0, 0, 0, 1, 0, 0, 0, 0, 0, 0, 1, 200, 1, 0, 0, 0, 0],\n",
        "                                  [0, 5, 1, 1, 1, 1, 1, 1, 1, 1, 1, 1, 1, 1, 1, 1, 0, 0],\n",
        "                                  [-10, 0, 1, 0, 0, -5, 0, 0, -10, 0, 0, 1, 0, 0, 0, 0, -10, 0],\n",
        "                                  [0, 0, 1, 0, 0, 1, 0, 0, 1, 0, 0, 0, 0, 0, 1, 0, -10, 0],\n",
        "                                  [0, -10, 1, 0, 0, 1, 0, 0, 1, -10, -10, 1, 1, 1, 1, 0, -10, 0],\n",
        "                                  [0, 0, 0, 0, 0, 1, 0, 0, 1, 0, 0, 0, 0, 1, 1, 0, -10, 0],\n",
        "                                  [0, 0, 0, 0, 0, 1, 0, 0, 1, 0, 0, 0, 0, 1, 1, 0, 0, 0],\n",
        "                                  [1, 1, 1, 1, 0, 1, 0, 0, 1, 1, 0, 0, 0, 1, 1, 0, 0, -5],\n",
        "                                  [0, 0, 0, 0, 0, 1, 0, 0, 0, 1, 0, 0, 1, -10, 1, 1, 1, 0],\n",
        "                                  [0, 0, 1, 1, 1, 1, 1, 0, 0, 1, -10, -10, 1, 0, 0, 0, 1, 0],\n",
        "                                  [0, 0, 0, 0, 0, 0, 1, 0, 0, 1, 0, 0, 1, 0, 0, 0, 1, 0],\n",
        "                                  [-10, -10, 0, 0, 1, 1, 1, 0, 0, 1, 0, 0, 1, 0, 0, 0, 0, 0,],\n",
        "                                  [0, 0, 0, 0, 0, 1, 1, 0, 0, -5, 0, 0, 1, 1, 1, 1, -10, -10],\n",
        "                                  [1, 1, 1, 1, 1, 1, -10, 0, 0, -5, 0, 0, 0, 0, 0, 0, 0, 0],\n",
        "                                  [1, 1, 0, 0, 0, 0, 1, 1, 1, 1, 1, 1, 0, -5, 0, 0, -5, 0],\n",
        "                                  [0, 0, 0, 0, 0, 0, -5, 0, 0, 0, 0, 0, 0, 0, 0, 0, 0, 0]])\n",
        "\n",
        "            self.num_rows = self.maze.shape[0]  # Number of rows in the maze\n",
        "            self.num_cols = self.maze.shape[1]  # Number of columns in the maze\n",
        "\n",
        "\n",
        "            # Define the colors for each cell value\n",
        "            self.cmap = plt.cm.colors.ListedColormap(['yellow', 'red', 'black', 'white', 'green'])\n",
        "            self.bounds = [-10.5, -5.5, -0.5, 0.5, 190.5, 200.5]\n",
        "            self.norm = plt.cm.colors.BoundaryNorm(self.bounds, self.cmap.N)\n",
        "\n",
        "            # Draw the maze\n",
        "            plt.imshow(self.maze, cmap=self.cmap, norm=self.norm)\n",
        "\n",
        "            # Show the plot\n",
        "            plt.show()\n",
        "\n",
        "\n",
        "    def step(self, action, state):\n",
        "            #directions = {'U': (-1, 0), 'D': (1, 0), 'L': (0, -1), 'R': (0, 1)}\n",
        "            directions = {'U': (0, 1), 'D': (0, -1), 'L': (-1, 0), 'R': (1, 0)}\n",
        "\n",
        "            # Get the direction tuple for the given action\n",
        "            direction = directions[action]\n",
        "            # Get the next state based on the transition probabilities\n",
        "            next_state = tuple(np.array(state) + np.array(direction))\n",
        "            if next_state[0] < 0 or next_state[0] >= self.maze.shape[0] or next_state[1] < 0 or next_state[1] >= self.maze.shape[1]:\n",
        "                # Bump state and Oil state - stay in current state\n",
        "                next_state = state\n",
        "            elif next_state[0] == 0 or next_state[1] == 0 or self.maze[next_state] == 0:\n",
        "                # Wall state - stay in current state\n",
        "                next_state = state\n",
        "\n",
        "            # Calculate the reward for the action taken\n",
        "            reward = get_reward(state, action, next_state, self.maze)\n",
        "\n",
        "            # Check if the goal state is reached\n",
        "            if (self.maze[self.current_state] == 200):\n",
        "              done=True\n",
        "            else:\n",
        "              done=False\n",
        "\n",
        "            # Return the next state and the reward\n",
        "            return next_state, reward, done\n",
        "\n"
      ]
    },
    {
      "cell_type": "code",
      "source": [
        "#You can implement different alogrithm here\n",
        "\n",
        "import numpy as np\n",
        "'''In this context, θ, γ, and δ refer to the stopping conditions for the value iteration algorithm:\n",
        "\n",
        "θ is the threshold for the maximum change in the value function between iterations. The algorithm stops when the maximum change is less than θ.\n",
        "γ is the discount factor, which determines the relative importance of immediate and future rewards in the value function.\n",
        "δ is the desired accuracy or error tolerance for the value function. The algorithm stops when the maximum difference between the true value function and the estimated value function is less than δ.'''\n",
        "\n",
        "def value_iteration(env, num_episodes, theta=0.0001, gamma=0.8):\n",
        "    # Initialize the value function\n",
        "    V = np.zeros((env.maze.shape[0], env.maze.shape[1]))\n",
        "    policy = np.zeros((env.maze.shape[0], env.maze.shape[1]), dtype=int)\n",
        "\n",
        "    direction_codes = {\"U\": 0, \"D\": 1, \"L\": 2, \"R\": 3}\n",
        "\n",
        "    while True:\n",
        "        delta = 0\n",
        "        for i in range(env.maze.shape[0]):\n",
        "            for j in range(env.maze.shape[1]):\n",
        "                v = V[i][j]\n",
        "                max_value = -np.inf\n",
        "                best_action = None  # Initialize to None\n",
        "                for action_int in action_space:\n",
        "                    next_state, reward, done = env.step(action_int, (i,j))\n",
        "                    next_value = reward + gamma * V[next_state[0]][next_state[1]]\n",
        "                    if next_value > max_value:\n",
        "                        max_value = next_value\n",
        "                        best_action = direction_codes[action_int]  # Convert to integer code\n",
        "                    if done:\n",
        "                        break\n",
        "                V[i][j] = max_value\n",
        "                policy[i][j] = best_action\n",
        "                delta = max(delta, abs(v - V[i][j]))\n",
        "\n",
        "        if delta < theta:\n",
        "            break\n",
        "    return V, policy\n"
      ],
      "metadata": {
        "id": "adfu_yh6Tk5r"
      },
      "execution_count": null,
      "outputs": []
    },
    {
      "cell_type": "code",
      "source": [],
      "metadata": {
        "id": "xGmjA5TCTq85"
      },
      "execution_count": null,
      "outputs": []
    },
    {
      "cell_type": "code",
      "source": [
        "# Test the Value_iteration  algorithm\n",
        "env = MazeEnvironment()  # calling class MazeEnvironment\n",
        "value_fun, policy=value_iteration(env, num_episodes=500) #Calling value_iteration algorithm\n",
        "\n",
        "#Plot the value function\n",
        "plt.pcolor(value_fun, cmap='hot')\n",
        "plt.colorbar()\n",
        "plt.show()\n",
        "\n"
      ],
      "metadata": {
        "colab": {
          "base_uri": "https://localhost:8080/",
          "height": 517
        },
        "id": "ih1BZJIyTm53",
        "outputId": "484faf52-6005-405b-ffad-7b3e85376d79"
      },
      "execution_count": null,
      "outputs": [
        {
          "output_type": "display_data",
          "data": {
            "text/plain": [
              "<Figure size 432x288 with 1 Axes>"
            ],
            "image/png": "[encoded data removed]"
          },
          "metadata": {
            "needs_background": "light"
          }
        },
        {
          "output_type": "display_data",
          "data": {
            "text/plain": [
              "<Figure size 432x288 with 2 Axes>"
            ],
            "image/png": "[encoded data removed]"
          },
          "metadata": {
            "needs_background": "light"
          }
        }
      ]
    },
    {
      "cell_type": "markdown",
      "source": [
        "The color of each cell in the heatmap represents the value of that state, with hotter colors indicating higher values and cooler colors indicating lower values. This can give us an idea of which states have higher or lower values, and how they compare to each other. The colorbar on the right side of the plot shows the range of values represented by the colors in the heatmap."
      ],
      "metadata": {
        "id": "va5TJPFYk5Dv"
      }
    },
    {
      "cell_type": "code",
      "source": [
        "\n",
        "def plot_maze(maze, path=None):\n",
        "    fig, ax = plt.subplots()\n",
        "    for i in range(env.maze.shape[0]):\n",
        "        for j in range(env.maze.shape[1]):\n",
        "            if env.maze[i, j] == 0:\n",
        "                color = 'black'\n",
        "            elif env.maze[i, j] == 1:\n",
        "                color = 'white'\n",
        "            elif env.maze[i, j] == -5:\n",
        "                color = 'red'\n",
        "            elif env.maze[i, j] == -10:\n",
        "                color = 'yellow'\n",
        "\n",
        "\n",
        "            rect = patches.Rectangle((j, i), 1, 1, linewidth=1, edgecolor='k', facecolor=color)\n",
        "            ax.add_patch(rect)\n",
        "    if path is not None:\n",
        "        for i in range(len(path) - 1):\n",
        "            current_pos = path[i]\n",
        "            next_pos = path[i + 1]\n",
        "            x = (current_pos[1] + 0.5, next_pos[1] + 0.5)\n",
        "            y = (maze.shape[0] - 0.5 - current_pos[0], maze.shape[0] - 0.5 - next_pos[0])\n",
        "            ax.plot(x, y, 'r-', linewidth=2)\n",
        "    ax.set_aspect('equal')\n",
        "    ax.set_xlim((0, maze.shape[1]))\n",
        "    ax.set_ylim((0, maze.shape[0]))\n",
        "    ax.axis('off')\n",
        "    plt.show()\n"
      ],
      "metadata": {
        "id": "SZhj7PbFTr4A"
      },
      "execution_count": null,
      "outputs": []
    },
    {
      "cell_type": "code",
      "source": [
        "# Get the optimal path using the policy\n",
        "import matplotlib.pyplot as plt\n",
        "import numpy as np\n",
        "import matplotlib.patches as patches\n",
        "\n",
        "direction_codes = {\"U\": 0, \"D\": 1, \"L\": 2, \"R\": 3}\n",
        "action_codes = {0: \"U\", 1: \"D\", 2: \"L\", 3: \"R\"}\n",
        "# Assume you have already computed the optimal value function and policy using value iteration\n",
        "# and have stored them in `V` and `policy`, respectively.\n",
        "\n",
        "# Define the mapping from actions to arrows\n",
        "arrow_map = {\n",
        "    0: '↑',  # move up\n",
        "    1: '→',  # move right\n",
        "    2: '↓',  # move down\n",
        "    3: '←',  # move left\n",
        "}\n",
        "\n",
        "start_state = (14, 3)\n",
        "goal = (2, 12)\n",
        "current_state = start_state\n",
        "optimal_path = [current_state]\n",
        "while current_state != goal:\n",
        "    action = policy[current_state[0], current_state[1]]\n",
        "    next_state, reward, done = env.step(action_codes[action], current_state)\n",
        "    optimal_path.append(next_state)\n",
        "    current_state = next_state\n",
        "\n",
        "# Convert the optimal path to a list of tuples of coordinates\n",
        "optimal_path_coords = [(state[0], state[1]) for state in optimal_path]\n",
        "\n",
        "# Plot the maze with the optimal path\n",
        "plot_maze(env.maze, path=optimal_path_coords)\n"
      ],
      "metadata": {
        "colab": {
          "base_uri": "https://localhost:8080/",
          "height": 248
        },
        "id": "ILxwtWt6Tu1R",
        "outputId": "6e34b281-7ae2-45bb-aace-46eb6fc0b52b"
      },
      "execution_count": null,
      "outputs": [
        {
          "output_type": "display_data",
          "data": {
            "text/plain": [
              "<Figure size 432x288 with 1 Axes>"
            ],
            "image/png": "[encoded data removed]"
          },
          "metadata": {
            "needs_background": "light"
          }
        }
      ]
    },
    {
      "cell_type": "markdown",
      "source": [
        "The code above computes the optimal path from the start state to the goal state, given the computed optimal policy using value iteration. It then visualizes the maze with the optimal path highlighted in the plot."
      ],
      "metadata": {
        "id": "sPMDQJj5laJA"
      }
    },
    {
      "cell_type": "code",
      "source": [
        "import matplotlib.pyplot as plt\n",
        "import numpy as np\n",
        "\n",
        "# Assume you have already computed the optimal value function and policy using value iteration\n",
        "# and have stored them in `V` and `policy`, respectively.\n",
        "\n",
        "# Define the mapping from actions to arrows\n",
        "arrow_map = {\n",
        "    0: '↑',  # move up\n",
        "    1: '→',  # move right\n",
        "    2: '↓',  # move down\n",
        "    3: '←',  # move left\n",
        "}\n",
        "\n",
        "# Create a new figure\n",
        "fig, ax = plt.subplots()\n",
        "\n",
        "# Plot the maze as a 2D grid of squares\n",
        "ax.imshow(env.maze, cmap='binary')\n",
        "\n",
        "# Create a 2D grid of arrows representing the optimal policy\n",
        "arrows = np.empty_like(env.maze, dtype=str)\n",
        "for i in range(env.maze.shape[0]):\n",
        "    for j in range(env.maze.shape[1]):\n",
        "        if env.maze[i, j] == 0:  # if the cell is not a wall\n",
        "            action = policy[i, j]\n",
        "            arrow = arrow_map[action]\n",
        "            arrows[i, j] = arrow\n",
        "        else:\n",
        "            arrows[i, j] = ''\n",
        "\n",
        "# Overlay the arrows on top of the maze\n",
        "for i in range(arrows.shape[0]):\n",
        "    for j in range(arrows.shape[1]):\n",
        "        ax.text(j, i, arrows[i, j], ha='center', va='center', fontsize=12, color='red')\n",
        "\n",
        "# Show the plot\n",
        "plt.show()\n"
      ],
      "metadata": {
        "colab": {
          "base_uri": "https://localhost:8080/",
          "height": 266
        },
        "id": "YUy4nuyCTyHc",
        "outputId": "26d37fbd-764d-46c9-83af-c797c1898a96"
      },
      "execution_count": null,
      "outputs": [
        {
          "output_type": "display_data",
          "data": {
            "text/plain": [
              "<Figure size 432x288 with 1 Axes>"
            ],
            "image/png": "[encoded data removed]"
          },
          "metadata": {
            "needs_background": "light"
          }
        }
      ]
    },
    {
      "cell_type": "markdown",
      "source": [
        "The arrows show the direction that the agent should move in from each state in order to reach the goal state with the highest possible reward."
      ],
      "metadata": {
        "id": "gmm63l3Kls1F"
      }
    }
  ]
}